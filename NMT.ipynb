{
 "cells": [
  {
   "cell_type": "code",
   "execution_count": 2,
   "metadata": {
    "colab": {
     "base_uri": "https://localhost:8080/",
     "height": 136
    },
    "colab_type": "code",
    "id": "DlHS4FmMBpv2",
    "outputId": "37efd8f7-5f29-4755-e94f-dabaf8bc44c6"
   },
   "outputs": [
    {
     "name": "stdout",
     "output_type": "stream",
     "text": [
      "Collecting torch==0.3.0.post4 from http://download.pytorch.org/whl/cu80/torch-0.3.0.post4-cp36-cp36m-linux_x86_64.whl\n",
      "\u001b[?25l  Downloading http://download.pytorch.org/whl/cu80/torch-0.3.0.post4-cp36-cp36m-linux_x86_64.whl (592.3MB)\n",
      "\u001b[K    100% |████████████████████████████████| 592.3MB 47.6MB/s \n",
      "\u001b[?25hRequirement already satisfied: pyyaml in /usr/local/lib/python3.6/dist-packages (from torch==0.3.0.post4) (3.13)\n",
      "Requirement already satisfied: numpy in /usr/local/lib/python3.6/dist-packages (from torch==0.3.0.post4) (1.14.6)\n",
      "Installing collected packages: torch\n",
      "Successfully installed torch-0.3.0.post4\n"
     ]
    }
   ],
   "source": [
    "!pip3 install http://download.pytorch.org/whl/cu80/torch-0.3.0.post4-cp36-cp36m-linux_x86_64.whl"
   ]
  },
  {
   "cell_type": "code",
   "execution_count": 3,
   "metadata": {
    "colab": {
     "base_uri": "https://localhost:8080/",
     "height": 292
    },
    "colab_type": "code",
    "id": "M0F2kKfGBt0L",
    "outputId": "5e65fd03-29d8-4b4d-9231-07d93c859859"
   },
   "outputs": [
    {
     "name": "stdout",
     "output_type": "stream",
     "text": [
      "Collecting torchvision\n",
      "\u001b[?25l  Downloading https://files.pythonhosted.org/packages/ca/0d/f00b2885711e08bd71242ebe7b96561e6f6d01fdb4b9dcf4d37e2e13c5e1/torchvision-0.2.1-py2.py3-none-any.whl (54kB)\n",
      "\r",
      "\u001b[K    18% |██████                          | 10kB 21.8MB/s eta 0:00:01\r",
      "\u001b[K    37% |████████████                    | 20kB 5.0MB/s eta 0:00:01\r",
      "\u001b[K    56% |██████████████████              | 30kB 7.1MB/s eta 0:00:01\r",
      "\u001b[K    75% |████████████████████████        | 40kB 4.6MB/s eta 0:00:01\r",
      "\u001b[K    93% |██████████████████████████████  | 51kB 5.6MB/s eta 0:00:01\r",
      "\u001b[K    100% |████████████████████████████████| 61kB 5.9MB/s \n",
      "\u001b[?25hCollecting pillow>=4.1.1 (from torchvision)\n",
      "\u001b[?25l  Downloading https://files.pythonhosted.org/packages/85/5e/e91792f198bbc5a0d7d3055ad552bc4062942d27eaf75c3e2783cf64eae5/Pillow-5.4.1-cp36-cp36m-manylinux1_x86_64.whl (2.0MB)\n",
      "\u001b[K    100% |████████████████████████████████| 2.0MB 11.0MB/s \n",
      "\u001b[?25hRequirement already satisfied: six in /usr/local/lib/python3.6/dist-packages (from torchvision) (1.11.0)\n",
      "Requirement already satisfied: numpy in /usr/local/lib/python3.6/dist-packages (from torchvision) (1.14.6)\n",
      "Requirement already satisfied: torch in /usr/local/lib/python3.6/dist-packages (from torchvision) (0.3.0.post4)\n",
      "Requirement already satisfied: pyyaml in /usr/local/lib/python3.6/dist-packages (from torch->torchvision) (3.13)\n",
      "Installing collected packages: pillow, torchvision\n",
      "  Found existing installation: Pillow 4.0.0\n",
      "    Uninstalling Pillow-4.0.0:\n",
      "      Successfully uninstalled Pillow-4.0.0\n",
      "Successfully installed pillow-5.4.1 torchvision-0.2.1\n"
     ]
    }
   ],
   "source": [
    "!pip3 install torchvision"
   ]
  },
  {
   "cell_type": "code",
   "execution_count": 0,
   "metadata": {
    "colab": {},
    "colab_type": "code",
    "id": "DCISE2GiBvhR"
   },
   "outputs": [],
   "source": [
    "import torch\n",
    "import torch.nn as nn\n",
    "from torch.autograd import Variable\n",
    "import torch.optim as optim\n",
    "import torch.nn.functional as F\n",
    "import nltk\n",
    "import random\n",
    "import numpy as np\n",
    "from collections import Counter, OrderedDict\n",
    "import nltk\n",
    "from copy import deepcopy\n",
    "import os\n",
    "import re\n",
    "import unicodedata\n",
    "flatten = lambda l: [item for sublist in l for item in sublist]\n",
    "\n",
    "from torch.nn.utils.rnn import PackedSequence,pack_padded_sequence\n",
    "import matplotlib.pyplot as plt\n",
    "import matplotlib.ticker as ticker\n",
    "random.seed(1024)\n",
    "%matplotlib inline"
   ]
  },
  {
   "cell_type": "code",
   "execution_count": 0,
   "metadata": {
    "colab": {},
    "colab_type": "code",
    "id": "1PcKWWiNOtlg"
   },
   "outputs": [],
   "source": [
    "USE_CUDA = torch.cuda.is_available()\n",
    "gpus = [0]\n",
    "torch.cuda.set_device(gpus[0])\n",
    "\n",
    "FloatTensor = torch.cuda.FloatTensor if USE_CUDA else torch.FloatTensor\n",
    "LongTensor = torch.cuda.LongTensor if USE_CUDA else torch.LongTensor\n",
    "ByteTensor = torch.cuda.ByteTensor if USE_CUDA else torch.ByteTensor"
   ]
  },
  {
   "cell_type": "code",
   "execution_count": 0,
   "metadata": {
    "colab": {},
    "colab_type": "code",
    "id": "3Gp2rZYe92ZJ"
   },
   "outputs": [],
   "source": [
    "def getBatch(batch_size, train_data):\n",
    "    random.shuffle(train_data)\n",
    "    sindex=0\n",
    "    eindex=batch_size\n",
    "    while eindex < len(train_data):\n",
    "        batch = train_data[sindex: eindex]\n",
    "        temp = eindex\n",
    "        eindex = eindex + batch_size\n",
    "        sindex = temp\n",
    "        yield batch\n",
    "    \n",
    "    if eindex >= len(train_data):\n",
    "        batch = train_data[sindex:]\n",
    "        yield batch"
   ]
  },
  {
   "cell_type": "code",
   "execution_count": 0,
   "metadata": {
    "colab": {},
    "colab_type": "code",
    "id": "bGbH7qeHHI7-"
   },
   "outputs": [],
   "source": [
    "def pad_to_batch(batch, x_to_ix, y_to_ix):\n",
    "    \n",
    "    sorted_batch =  sorted(batch, key=lambda b:b[0].size(1), reverse=True) # sort by len\n",
    "    x,y = list(zip(*sorted_batch))\n",
    "    max_x = max([s.size(1) for s in x])\n",
    "    max_y = max([s.size(1) for s in y])\n",
    "    x_p, y_p = [], []\n",
    "    for i in range(len(batch)):\n",
    "        if x[i].size(1) < max_x:\n",
    "            x_p.append(torch.cat([x[i], Variable(LongTensor([x_to_ix['<PAD>']] * (max_x - x[i].size(1)))).view(1, -1)], 1))\n",
    "        else:\n",
    "            x_p.append(x[i])\n",
    "        if y[i].size(1) < max_y:\n",
    "            y_p.append(torch.cat([y[i], Variable(LongTensor([y_to_ix['<PAD>']] * (max_y - y[i].size(1)))).view(1, -1)], 1))\n",
    "        else:\n",
    "            y_p.append(y[i])\n",
    "        \n",
    "    input_var = torch.cat(x_p)\n",
    "    target_var = torch.cat(y_p)\n",
    "    input_len = [list(map(lambda s: s ==0, t.data)).count(False) for t in input_var]\n",
    "    target_len = [list(map(lambda s: s ==0, t.data)).count(False) for t in target_var]\n",
    "    \n",
    "    return input_var, target_var, input_len, target_len"
   ]
  },
  {
   "cell_type": "code",
   "execution_count": 0,
   "metadata": {
    "colab": {},
    "colab_type": "code",
    "id": "AwcN7_8sx8I1"
   },
   "outputs": [],
   "source": [
    "def unicode_to_ascii(s):\n",
    "    return ''.join(\n",
    "        c for c in unicodedata.normalize('NFD', s)\n",
    "        if unicodedata.category(c) != 'Mn'\n",
    "    )\n",
    "\n",
    "# Lowercase, trim, and remove non-letter characters\n",
    "def normalize_string(s):\n",
    "    s = unicode_to_ascii(s.lower().strip())\n",
    "    s = re.sub(r\"([,.!?])\", r\" \\1 \", s)\n",
    "    s = re.sub(r\"[^a-zA-Z,.!?]+\", r\" \", s)\n",
    "    s = re.sub(r\"\\s+\", r\" \", s).strip()\n",
    "    return s"
   ]
  },
  {
   "cell_type": "code",
   "execution_count": 0,
   "metadata": {
    "colab": {},
    "colab_type": "code",
    "id": "LVoPaKt2CrbJ"
   },
   "outputs": [],
   "source": [
    "corpus = open('fra.txt', 'r', encoding='utf-8').readlines()\n",
    "corpus = corpus[:30000]"
   ]
  },
  {
   "cell_type": "code",
   "execution_count": 0,
   "metadata": {
    "colab": {},
    "colab_type": "code",
    "id": "GN98CR18DP3U"
   },
   "outputs": [],
   "source": [
    "MIN_LENGTH = 3\n",
    "MAX_LENGTH = 25"
   ]
  },
  {
   "cell_type": "code",
   "execution_count": 11,
   "metadata": {
    "colab": {
     "base_uri": "https://localhost:8080/",
     "height": 51
    },
    "colab_type": "code",
    "id": "AGb52VtkQ3sX",
    "outputId": "09a81be1-f8f4-496d-dc95-6b11b3bd42a9"
   },
   "outputs": [
    {
     "name": "stdout",
     "output_type": "stream",
     "text": [
      "29807 29807\n",
      "['i', 'see', '.'] ['je', 'comprends', '.']\n"
     ]
    }
   ],
   "source": [
    "X_r, y_r = [], [] # raw\n",
    "\n",
    "for parallel in corpus:\n",
    "    so,ta = parallel[:-1].split('\\t')\n",
    "    if so.strip() == \"\" or ta.strip() == \"\": \n",
    "        continue\n",
    "    \n",
    "    normalized_so = normalize_string(so).split()\n",
    "    normalized_ta = normalize_string(ta).split()\n",
    "    \n",
    "    if len(normalized_so) >= MIN_LENGTH and len(normalized_so) <= MAX_LENGTH \\\n",
    "    and len(normalized_ta) >= MIN_LENGTH and len(normalized_ta) <= MAX_LENGTH:\n",
    "        X_r.append(normalized_so)\n",
    "        y_r.append(normalized_ta)\n",
    "    \n",
    "\n",
    "print(len(X_r), len(y_r))\n",
    "print(X_r[0], y_r[0])"
   ]
  },
  {
   "cell_type": "code",
   "execution_count": 12,
   "metadata": {
    "colab": {
     "base_uri": "https://localhost:8080/",
     "height": 34
    },
    "colab_type": "code",
    "id": "TaadjJgPANRb",
    "outputId": "230a4d76-1ac3-4059-f68b-79c4679a4cd3"
   },
   "outputs": [
    {
     "name": "stdout",
     "output_type": "stream",
     "text": [
      "['i', 'try', '.'] ['j', 'essaye', '.']\n"
     ]
    }
   ],
   "source": [
    "print(X_r[1], y_r[1])"
   ]
  },
  {
   "cell_type": "code",
   "execution_count": 13,
   "metadata": {
    "colab": {
     "base_uri": "https://localhost:8080/",
     "height": 51
    },
    "colab_type": "code",
    "id": "ru3yx98C1i-a",
    "outputId": "ec2350c6-eb63-418f-e1bc-8be88663f7dd"
   },
   "outputs": [
    {
     "name": "stdout",
     "output_type": "stream",
     "text": [
      "4443\n",
      "7664\n"
     ]
    }
   ],
   "source": [
    "#Building vocabulary\n",
    "source_vocab = list(set(flatten(X_r)))\n",
    "target_vocab = list(set(flatten(y_r)))\n",
    "print(len(source_vocab))\n",
    "print(len(target_vocab))"
   ]
  },
  {
   "cell_type": "code",
   "execution_count": 0,
   "metadata": {
    "colab": {},
    "colab_type": "code",
    "id": "I9jTZVmw1pcs"
   },
   "outputs": [],
   "source": [
    "source_to_index = {\"<PAD>\":0, \"<UNK>\":1, \"<s>\":2, \"</s>\":3}\n",
    "for word in source_vocab:\n",
    "    if(word not in source_to_index):\n",
    "        source_to_index[word]=len(source_to_index)\n",
    "index_to_source = {v:k for k, v in source_to_index.items()}\n",
    "\n",
    "target_to_index = {\"<PAD>\":0, \"<UNK>\":1, \"<s>\":2, \"</s>\":3}\n",
    "for word in target_vocab:\n",
    "    if(word not in target_to_index):\n",
    "        target_to_index[word]=len(target_to_index)\n",
    "index_to_target = {v:k for k, v in target_to_index.items()}"
   ]
  },
  {
   "cell_type": "code",
   "execution_count": 0,
   "metadata": {
    "colab": {},
    "colab_type": "code",
    "id": "z7-fZ_C66yki"
   },
   "outputs": [],
   "source": [
    "def prepare_sequence(seq, to_index):\n",
    "    idxs = list(map(lambda w: to_index[w] if to_index.get(w) is not None else to_index[\"<UNK>\"], seq))\n",
    "    return Variable(LongTensor(idxs))"
   ]
  },
  {
   "cell_type": "code",
   "execution_count": 0,
   "metadata": {
    "colab": {},
    "colab_type": "code",
    "id": "wtr_gsAC60k5"
   },
   "outputs": [],
   "source": [
    "X_p, y_p = [], []\n",
    "\n",
    "for so, ta in zip(X_r, y_r):\n",
    "    X_p.append(prepare_sequence(so + ['</s>'], source_to_index).view(1, -1))\n",
    "    y_p.append(prepare_sequence(ta + ['</s>'], target_to_index).view(1, -1))\n",
    "    \n",
    "train_data = list(zip(X_p, y_p))"
   ]
  },
  {
   "cell_type": "code",
   "execution_count": 17,
   "metadata": {
    "colab": {
     "base_uri": "https://localhost:8080/",
     "height": 136
    },
    "colab_type": "code",
    "id": "A24naEAFBala",
    "outputId": "dc94d1ad-c082-46ab-da1c-970789141ffa"
   },
   "outputs": [
    {
     "name": "stdout",
     "output_type": "stream",
     "text": [
      "Variable containing:\n",
      " 2948  4301  2660  2620  3972     3\n",
      "[torch.cuda.LongTensor of size 1x6 (GPU 0)]\n",
      " Variable containing:\n",
      "  992  2207   565  5234   642   897  6095  3670     3\n",
      "[torch.cuda.LongTensor of size 1x9 (GPU 0)]\n",
      "\n"
     ]
    }
   ],
   "source": [
    "print(X_p[10000],y_p[10000])"
   ]
  },
  {
   "cell_type": "code",
   "execution_count": 0,
   "metadata": {
    "colab": {},
    "colab_type": "code",
    "id": "L_MT_S_k8zmI"
   },
   "outputs": [],
   "source": [
    "#Encoder\n",
    "class Encoder(nn.Module):\n",
    "    def __init__(self, input_size, embedding_size, hidden_size, n_layers=1, bidirec=False):\n",
    "        super(Encoder, self).__init__()\n",
    "        self.input_size=input_size\n",
    "        self.hidden_size = hidden_size\n",
    "        self.n_layers = n_layers\n",
    "        self.embedding = nn.Embedding(input_size, embedding_size)\n",
    "        \n",
    "        if (bidirec == False):\n",
    "            self.n_direction=1\n",
    "            self.gru=nn.GRU(embedding_size, hidden_size, n_layers, batch_first=True)\n",
    "        else:\n",
    "            self.n_direction=2\n",
    "            self.gru=nn.GRU(embedding_size, hidden_size, n_layers, batch_first=True, bidirectional=True)\n",
    "    \n",
    "    def init_hidden(self, inputs):\n",
    "        hidden = Variable(torch.zeros(self.n_layers*self.n_direction, inputs.size(0), self.hidden_size))\n",
    "        return hidden.cuda() if USE_CUDA else hidden\n",
    "    \n",
    "    def init_weight(self):\n",
    "        self.embedding.weight = nn.init.xavier_uniform(self.embedding.weight)\n",
    "        self.gru.weight_hh_l0 = nn.init.xavier_uniform(self.gru.weight_hh_l0)\n",
    "        self.gru.weight_ih_l0 = nn.init.xavier_uniform(self.gru.weight_ih_l0)\n",
    "        \n",
    "    def forward(self, inputs, input_length):\n",
    "        hidden = self.init_hidden(inputs)\n",
    "        embedded = self.embedding(inputs)\n",
    "        packed = pack_padded_sequence(embedded, input_length, batch_first=True)\n",
    "        outputs, hidden = self.gru(packed, hidden)\n",
    "        outputs, output_lengths = torch.nn.utils.rnn.pad_packed_sequence(outputs, batch_first=True)\n",
    "        \n",
    "        if self.n_layers>.1:\n",
    "            if self.n_direction == 2:\n",
    "                hidden = hidden[-2:]\n",
    "            else:\n",
    "                hidden=hidden[-1]\n",
    "        return outputs, torch.cat([h for h in hidden], 1).unsqueeze(1)\n",
    "    "
   ]
  },
  {
   "cell_type": "code",
   "execution_count": 0,
   "metadata": {
    "colab": {},
    "colab_type": "code",
    "id": "uXoEbbFwwvz0"
   },
   "outputs": [],
   "source": [
    "class Decoder(nn.Module):\n",
    "    def __init__(self, input_size, embedding_size, hidden_size, n_layers=1, dropout_p=0.1):\n",
    "        super(Decoder, self).__init__()\n",
    "        self.hidden_size=hidden_size\n",
    "        self.n_layers=n_layers\n",
    "        \n",
    "        self.embedding = nn.Embedding(input_size, embedding_size)\n",
    "        self.dropout = nn.Dropout(dropout_p)\n",
    "        self.gru = nn.GRU(embedding_size + hidden_size, hidden_size, n_layers, batch_first=True)\n",
    "        self.linear = nn.Linear(2*hidden_size + embedding_size, input_size) #changed\n",
    "        self.attn = nn.Linear(self.hidden_size, self.hidden_size)\n",
    "    \n",
    "    def init_hidden(self, inputs):\n",
    "        hidden = Variable(torch.zeros(self.n_layers, inputs.size(0), self.hidden_size))\n",
    "        return hidden.cuda() if USE_CUDA else hidden\n",
    "    \n",
    "    def init_weight(self):\n",
    "        self.embedding.weight = nn.init.xavier_uniform(self.embedding.weight)\n",
    "        self.gru.weight_hh_l0 = nn.init.xavier_uniform(self.gru.weight_hh_l0)\n",
    "        self.gru.weight_ih_l0 = nn.init.xavier_uniform(self.gru.weight_ih_l0)\n",
    "        self.linear.weight = nn.init.xavier_uniform(self.linear.weight)\n",
    "        self.attn.weight = nn.init.xavier_uniform(self.attn.weight)\n",
    "    \n",
    "    def Attention(self, hidden, encoder_outputs, encoder_masking):\n",
    "        hidden=hidden[0].unsqueeze(2)\n",
    "        \n",
    "        batch_size = encoder_outputs.size(0) \n",
    "        max_len = encoder_outputs.size(1)\n",
    "        energies = self.attn(encoder_outputs.contiguous().view(batch_size * max_len, -1)) \n",
    "        energies = energies.view(batch_size,max_len, -1) \n",
    "        attn_energies = energies.bmm(hidden).squeeze(2) \n",
    "        \n",
    "     \n",
    "        alpha = F.softmax(attn_energies,1) \n",
    "        alpha = alpha.unsqueeze(1) \n",
    "        context = alpha.bmm(encoder_outputs) \n",
    "        \n",
    "        return context, alpha\n",
    "        \n",
    "        \n",
    "    def forward(self, inputs, context, max_length, encoder_outputs, encoder_masking=None, is_training=False):\n",
    "        hidden = self.init_hidden(inputs)\n",
    "        embedded = self.embedding(inputs)\n",
    "        if is_training:\n",
    "            embedded = self.dropout(embedded)\n",
    "        decode =[]\n",
    "        \n",
    "        for i in range(0, max_length):\n",
    "            _, hidden = self.gru(torch.cat((embedded, context), 2), hidden)\n",
    "            score = self.linear(torch.cat((hidden, context.transpose(0,1), embedded.transpose(0,1)),2).squeeze(0)) #changed\n",
    "            softmaxed = F.log_softmax(score,1)\n",
    "            decode.append(softmaxed)\n",
    "            decoded = softmaxed.max(1)[1]\n",
    "            embedded = self.embedding(decoded).unsqueeze(1) # y_{t-1}\n",
    "            if is_training:\n",
    "                embedded = self.dropout(embedded)\n",
    "            context, alpha = self.Attention(hidden, encoder_outputs, encoder_masking)\n",
    "        scores = torch.cat(decode, 1)\n",
    "        return scores.view(inputs.size(0) * max_length, -1)\n",
    "    \n",
    "    def decode(self, context, encoder_outputs):\n",
    "        start_decode = Variable(LongTensor([[target_to_index['<s>']] * 1])).transpose(0, 1)\n",
    "        embedded = self.embedding(start_decode)\n",
    "        hidden = self.init_hidden(start_decode)\n",
    "        \n",
    "        decodes = []\n",
    "        attentions = []\n",
    "        decoded = embedded\n",
    "        while decoded.data.tolist()[0] != target_to_index['</s>']: # until </s>\n",
    "            _, hidden = self.gru(torch.cat((embedded, context), 2), hidden) # h_t = f(h_{t-1},y_{t-1},c)\n",
    "            concated = torch.cat((hidden, context.transpose(0, 1), embedded.transpose(0,1)), 2) # y_t = g(h_t,y_{t-1},c)  changed\n",
    "            score = self.linear(concated.squeeze(0))\n",
    "            softmaxed = F.log_softmax(score,1)\n",
    "            decodes.append(softmaxed)\n",
    "            decoded = softmaxed.max(1)[1]\n",
    "            embedded = self.embedding(decoded).unsqueeze(1) # y_{t-1}\n",
    "            context, alpha = self.Attention(hidden, encoder_outputs,None)\n",
    "            attentions.append(alpha.squeeze(1))\n",
    "        \n",
    "        return torch.cat(decodes).max(1)[1], torch.cat(attentions)"
   ]
  },
  {
   "cell_type": "code",
   "execution_count": 0,
   "metadata": {
    "colab": {},
    "colab_type": "code",
    "id": "yqgO2EQnNz6x"
   },
   "outputs": [],
   "source": [
    "#Hyperparameters\n",
    "\n",
    "EPOCH = 50\n",
    "BATCH_SIZE = 64\n",
    "EMBEDDING_SIZE = 300\n",
    "HIDDEN_SIZE = 512\n",
    "LR = 0.001\n",
    "DECODER_LEARNING_RATIO = 5.0\n",
    "RESCHEDULED = False"
   ]
  },
  {
   "cell_type": "code",
   "execution_count": 0,
   "metadata": {
    "colab": {},
    "colab_type": "code",
    "id": "3B3IlW7EN55T"
   },
   "outputs": [],
   "source": [
    "encoder=Encoder(len(source_to_index), EMBEDDING_SIZE, HIDDEN_SIZE, 3, True)\n",
    "decoder = Decoder(len(target_to_index), EMBEDDING_SIZE, HIDDEN_SIZE * 2)\n",
    "encoder.init_weight()\n",
    "decoder.init_weight()\n",
    "\n",
    "if USE_CUDA:\n",
    "    encoder.cuda()\n",
    "    decoder.cuda()\n",
    "    \n",
    "loss_function = nn.CrossEntropyLoss(ignore_index=0)\n",
    "enc_optimizer = optim.Adam(encoder.parameters(), lr=LR)\n",
    "dec_optimizer = optim.Adam(decoder.parameters(), lr=LR * DECODER_LEARNING_RATIO)"
   ]
  },
  {
   "cell_type": "code",
   "execution_count": 22,
   "metadata": {
    "colab": {
     "base_uri": "https://localhost:8080/",
     "height": 2567
    },
    "colab_type": "code",
    "id": "jIlzPmoJ_v5Z",
    "outputId": "2796bfcd-f206-4154-f5c9-eddef570df07"
   },
   "outputs": [
    {
     "name": "stdout",
     "output_type": "stream",
     "text": [
      "[00/50] [000/465] mean_loss : 8.95\n",
      "[00/50] [200/465] mean_loss : 4.25\n",
      "[00/50] [400/465] mean_loss : 3.28\n",
      "[01/50] [000/465] mean_loss : 2.69\n",
      "[01/50] [200/465] mean_loss : 2.50\n",
      "[01/50] [400/465] mean_loss : 2.39\n",
      "[02/50] [000/465] mean_loss : 1.91\n",
      "[02/50] [200/465] mean_loss : 1.92\n",
      "[02/50] [400/465] mean_loss : 1.92\n",
      "[03/50] [000/465] mean_loss : 1.38\n",
      "[03/50] [200/465] mean_loss : 1.76\n",
      "[03/50] [400/465] mean_loss : 1.70\n",
      "[04/50] [000/465] mean_loss : 1.56\n",
      "[04/50] [200/465] mean_loss : 1.40\n",
      "[04/50] [400/465] mean_loss : 1.45\n",
      "[05/50] [000/465] mean_loss : 1.53\n",
      "[05/50] [200/465] mean_loss : 1.27\n",
      "[05/50] [400/465] mean_loss : 1.34\n",
      "[06/50] [000/465] mean_loss : 1.13\n",
      "[06/50] [200/465] mean_loss : 1.18\n",
      "[06/50] [400/465] mean_loss : 1.25\n",
      "[07/50] [000/465] mean_loss : 0.89\n",
      "[07/50] [200/465] mean_loss : 1.09\n",
      "[07/50] [400/465] mean_loss : 1.20\n",
      "[08/50] [000/465] mean_loss : 1.14\n",
      "[08/50] [200/465] mean_loss : 1.04\n",
      "[08/50] [400/465] mean_loss : 1.14\n",
      "[09/50] [000/465] mean_loss : 1.08\n",
      "[09/50] [200/465] mean_loss : 0.99\n",
      "[09/50] [400/465] mean_loss : 1.10\n",
      "[10/50] [000/465] mean_loss : 0.92\n",
      "[10/50] [200/465] mean_loss : 0.97\n",
      "[10/50] [400/465] mean_loss : 1.07\n",
      "[11/50] [000/465] mean_loss : 0.83\n",
      "[11/50] [200/465] mean_loss : 0.92\n",
      "[11/50] [400/465] mean_loss : 1.01\n",
      "[12/50] [000/465] mean_loss : 0.90\n",
      "[12/50] [200/465] mean_loss : 0.87\n",
      "[12/50] [400/465] mean_loss : 0.99\n",
      "[13/50] [000/465] mean_loss : 0.81\n",
      "[13/50] [200/465] mean_loss : 0.87\n",
      "[13/50] [400/465] mean_loss : 0.99\n",
      "[14/50] [000/465] mean_loss : 0.92\n",
      "[14/50] [200/465] mean_loss : 0.85\n",
      "[14/50] [400/465] mean_loss : 0.93\n",
      "[15/50] [000/465] mean_loss : 0.77\n",
      "[15/50] [200/465] mean_loss : 0.86\n",
      "[15/50] [400/465] mean_loss : 0.92\n",
      "[16/50] [000/465] mean_loss : 0.90\n",
      "[16/50] [200/465] mean_loss : 0.83\n",
      "[16/50] [400/465] mean_loss : 0.90\n",
      "[17/50] [000/465] mean_loss : 0.67\n",
      "[17/50] [200/465] mean_loss : 0.78\n",
      "[17/50] [400/465] mean_loss : 0.86\n",
      "[18/50] [000/465] mean_loss : 0.88\n",
      "[18/50] [200/465] mean_loss : 0.75\n",
      "[18/50] [400/465] mean_loss : 0.84\n",
      "[19/50] [000/465] mean_loss : 0.68\n",
      "[19/50] [200/465] mean_loss : 0.73\n",
      "[19/50] [400/465] mean_loss : 0.85\n",
      "[20/50] [000/465] mean_loss : 0.56\n",
      "[20/50] [200/465] mean_loss : 0.72\n",
      "[20/50] [400/465] mean_loss : 0.82\n",
      "[21/50] [000/465] mean_loss : 0.69\n",
      "[21/50] [200/465] mean_loss : 0.71\n",
      "[21/50] [400/465] mean_loss : 0.82\n",
      "[22/50] [000/465] mean_loss : 0.62\n",
      "[22/50] [200/465] mean_loss : 0.70\n",
      "[22/50] [400/465] mean_loss : 0.79\n",
      "[23/50] [000/465] mean_loss : 0.78\n",
      "[23/50] [200/465] mean_loss : 0.70\n",
      "[23/50] [400/465] mean_loss : 0.82\n",
      "[24/50] [000/465] mean_loss : 0.67\n",
      "[24/50] [200/465] mean_loss : 0.71\n",
      "[24/50] [400/465] mean_loss : 0.84\n",
      "[25/50] [000/465] mean_loss : 0.69\n",
      "[25/50] [200/465] mean_loss : 0.64\n",
      "[25/50] [400/465] mean_loss : 0.63\n",
      "[26/50] [000/465] mean_loss : 0.74\n",
      "[26/50] [200/465] mean_loss : 0.59\n",
      "[26/50] [400/465] mean_loss : 0.58\n",
      "[27/50] [000/465] mean_loss : 0.53\n",
      "[27/50] [200/465] mean_loss : 0.56\n",
      "[27/50] [400/465] mean_loss : 0.54\n",
      "[28/50] [000/465] mean_loss : 0.46\n",
      "[28/50] [200/465] mean_loss : 0.53\n",
      "[28/50] [400/465] mean_loss : 0.52\n",
      "[29/50] [000/465] mean_loss : 0.35\n",
      "[29/50] [200/465] mean_loss : 0.51\n",
      "[29/50] [400/465] mean_loss : 0.51\n",
      "[30/50] [000/465] mean_loss : 0.66\n",
      "[30/50] [200/465] mean_loss : 0.50\n",
      "[30/50] [400/465] mean_loss : 0.49\n",
      "[31/50] [000/465] mean_loss : 0.36\n",
      "[31/50] [200/465] mean_loss : 0.47\n",
      "[31/50] [400/465] mean_loss : 0.47\n",
      "[32/50] [000/465] mean_loss : 0.43\n",
      "[32/50] [200/465] mean_loss : 0.46\n",
      "[32/50] [400/465] mean_loss : 0.46\n",
      "[33/50] [000/465] mean_loss : 0.53\n",
      "[33/50] [200/465] mean_loss : 0.44\n",
      "[33/50] [400/465] mean_loss : 0.44\n",
      "[34/50] [000/465] mean_loss : 0.43\n",
      "[34/50] [200/465] mean_loss : 0.44\n",
      "[34/50] [400/465] mean_loss : 0.43\n",
      "[35/50] [000/465] mean_loss : 0.44\n",
      "[35/50] [200/465] mean_loss : 0.42\n",
      "[35/50] [400/465] mean_loss : 0.43\n",
      "[36/50] [000/465] mean_loss : 0.58\n",
      "[36/50] [200/465] mean_loss : 0.42\n",
      "[36/50] [400/465] mean_loss : 0.41\n",
      "[37/50] [000/465] mean_loss : 0.42\n",
      "[37/50] [200/465] mean_loss : 0.40\n",
      "[37/50] [400/465] mean_loss : 0.40\n",
      "[38/50] [000/465] mean_loss : 0.47\n",
      "[38/50] [200/465] mean_loss : 0.40\n",
      "[38/50] [400/465] mean_loss : 0.40\n",
      "[39/50] [000/465] mean_loss : 0.36\n",
      "[39/50] [200/465] mean_loss : 0.39\n",
      "[39/50] [400/465] mean_loss : 0.40\n",
      "[40/50] [000/465] mean_loss : 0.35\n",
      "[40/50] [200/465] mean_loss : 0.38\n",
      "[40/50] [400/465] mean_loss : 0.38\n",
      "[41/50] [000/465] mean_loss : 0.36\n",
      "[41/50] [200/465] mean_loss : 0.38\n",
      "[41/50] [400/465] mean_loss : 0.38\n",
      "[42/50] [000/465] mean_loss : 0.33\n",
      "[42/50] [200/465] mean_loss : 0.37\n",
      "[42/50] [400/465] mean_loss : 0.37\n",
      "[43/50] [000/465] mean_loss : 0.34\n",
      "[43/50] [200/465] mean_loss : 0.36\n",
      "[43/50] [400/465] mean_loss : 0.37\n",
      "[44/50] [000/465] mean_loss : 0.48\n",
      "[44/50] [200/465] mean_loss : 0.36\n",
      "[44/50] [400/465] mean_loss : 0.36\n",
      "[45/50] [000/465] mean_loss : 0.29\n",
      "[45/50] [200/465] mean_loss : 0.36\n",
      "[45/50] [400/465] mean_loss : 0.35\n",
      "[46/50] [000/465] mean_loss : 0.30\n",
      "[46/50] [200/465] mean_loss : 0.35\n",
      "[46/50] [400/465] mean_loss : 0.36\n",
      "[47/50] [000/465] mean_loss : 0.32\n",
      "[47/50] [200/465] mean_loss : 0.34\n",
      "[47/50] [400/465] mean_loss : 0.35\n",
      "[48/50] [000/465] mean_loss : 0.31\n",
      "[48/50] [200/465] mean_loss : 0.34\n",
      "[48/50] [400/465] mean_loss : 0.34\n",
      "[49/50] [000/465] mean_loss : 0.36\n",
      "[49/50] [200/465] mean_loss : 0.33\n",
      "[49/50] [400/465] mean_loss : 0.35\n"
     ]
    }
   ],
   "source": [
    "loss_to_plot=[]\n",
    "for epoch in range(EPOCH):\n",
    "    losses=[]\n",
    "    for i, batch in enumerate(getBatch(BATCH_SIZE, train_data)):\n",
    "        inputs, targets, input_lengths, target_lengths = pad_to_batch(batch, source_to_index, target_to_index)\n",
    "        encoder.zero_grad()\n",
    "        decoder.zero_grad()\n",
    "        output, hidden_c = encoder(inputs, input_lengths)\n",
    "        start_decode = Variable(LongTensor([[target_to_index['<s>']] * targets.size(0)])).transpose(0, 1)\n",
    "        input_masks = torch.cat([Variable(ByteTensor(tuple(map(lambda s: s ==0, t.data)))) for t in inputs]).view(inputs.size(0), -1)\n",
    "        preds = decoder(start_decode, hidden_c, targets.size(1), output, input_masks, True)\n",
    "        loss = loss_function(preds, targets.view(-1))\n",
    "        loss_to_plot.append(loss.data.tolist()[0])\n",
    "        losses.append(loss.data.tolist()[0])\n",
    "        loss.backward()\n",
    "        torch.nn.utils.clip_grad_norm(encoder.parameters(), 50.0) # gradient clipping\n",
    "        torch.nn.utils.clip_grad_norm(decoder.parameters(), 50.0) # gradient clipping\n",
    "        enc_optimizer.step()\n",
    "        dec_optimizer.step()\n",
    "\n",
    "        if i % 200==0:\n",
    "            print(\"[%02d/%d] [%03d/%d] mean_loss : %0.2f\" %(epoch, EPOCH, i, len(train_data)//BATCH_SIZE, np.mean(losses)))\n",
    "            losses=[]\n",
    "        if RESCHEDULED == False and epoch  == EPOCH//2:\n",
    "            LR *= 0.01\n",
    "            enc_optimizer = optim.Adam(encoder.parameters(), lr=LR)\n",
    "            dec_optimizer = optim.Adam(decoder.parameters(), lr=LR * DECODER_LEARNING_RATIO)\n",
    "            RESCHEDULED = True"
   ]
  },
  {
   "cell_type": "code",
   "execution_count": 0,
   "metadata": {
    "colab": {
     "base_uri": "https://localhost:8080/",
     "height": 34
    },
    "colab_type": "code",
    "id": "Skp9aWHy-bJh",
    "outputId": "116aac1d-9eac-4457-a901-ada7698e9e3a"
   },
   "outputs": [
    {
     "data": {
      "text/plain": [
       "23300"
      ]
     },
     "execution_count": 71,
     "metadata": {
      "tags": []
     },
     "output_type": "execute_result"
    }
   ],
   "source": [
    "len(loss_to_plot)"
   ]
  },
  {
   "cell_type": "code",
   "execution_count": 23,
   "metadata": {
    "colab": {
     "base_uri": "https://localhost:8080/",
     "height": 282
    },
    "colab_type": "code",
    "id": "j2fM3Dda-xrq",
    "outputId": "c4ce8d05-d75e-4fae-b911-256435d57c91"
   },
   "outputs": [
    {
     "data": {
      "text/plain": [
       "[<matplotlib.lines.Line2D at 0x7f48a81a3518>]"
      ]
     },
     "execution_count": 23,
     "metadata": {
      "tags": []
     },
     "output_type": "execute_result"
    },
    {
     "data": {
      "image/png": "[encoded data removed]",
      "text/plain": [
       "<matplotlib.figure.Figure at 0x7f48ab644198>"
      ]
     },
     "metadata": {
      "tags": []
     },
     "output_type": "display_data"
    }
   ],
   "source": [
    "import matplotlib.pyplot as plt\n",
    "plt.plot(range(0,23300), loss_to_plot)"
   ]
  },
  {
   "cell_type": "code",
   "execution_count": 27,
   "metadata": {
    "colab": {
     "base_uri": "https://localhost:8080/",
     "height": 71
    },
    "colab_type": "code",
    "id": "w6G36-w04gO6",
    "outputId": "1ce9fc4b-6a94-4834-9d2b-be5ac3aaab88"
   },
   "outputs": [
    {
     "name": "stderr",
     "output_type": "stream",
     "text": [
      "/usr/local/lib/python3.6/dist-packages/torch/serialization.py:158: UserWarning: Couldn't retrieve source code for container of type Encoder. It won't be checked for correctness upon loading.\n",
      "  \"type \" + obj.__name__ + \". It won't be checked \"\n"
     ]
    }
   ],
   "source": [
    "torch.save(encoder, 'encoder.pkl')"
   ]
  },
  {
   "cell_type": "code",
   "execution_count": 28,
   "metadata": {
    "colab": {
     "base_uri": "https://localhost:8080/",
     "height": 71
    },
    "colab_type": "code",
    "id": "FtIEcrBH40OC",
    "outputId": "a888265a-4d54-4cbd-aea9-4a33021f568f"
   },
   "outputs": [
    {
     "name": "stderr",
     "output_type": "stream",
     "text": [
      "/usr/local/lib/python3.6/dist-packages/torch/serialization.py:158: UserWarning: Couldn't retrieve source code for container of type Decoder. It won't be checked for correctness upon loading.\n",
      "  \"type \" + obj.__name__ + \". It won't be checked \"\n"
     ]
    }
   ],
   "source": [
    "torch.save(decoder, 'decoder.pkl')"
   ]
  },
  {
   "cell_type": "code",
   "execution_count": 38,
   "metadata": {
    "colab": {
     "base_uri": "https://localhost:8080/",
     "height": 527
    },
    "colab_type": "code",
    "id": "_3nSXkCmynYY",
    "outputId": "88babb3f-4ece-45b4-8000-05aebce1e158"
   },
   "outputs": [
    {
     "name": "stdout",
     "output_type": "stream",
     "text": [
      "Sentence: 1000 BLEU: 0.8089463589460244\n",
      "Sentence: 2000 BLEU: 0.8087553566816846\n",
      "Sentence: 3000 BLEU: 0.8106813944707802\n",
      "Sentence: 4000 BLEU: 0.8110109063248789\n",
      "Sentence: 5000 BLEU: 0.8091498486388499\n",
      "Sentence: 6000 BLEU: 0.8092036625592701\n",
      "Sentence: 7000 BLEU: 0.8099321936884741\n",
      "Sentence: 8000 BLEU: 0.8093722941136698\n",
      "Sentence: 9000 BLEU: 0.8093101081693549\n",
      "Sentence: 10000 BLEU: 0.8098745539685914\n",
      "Sentence: 11000 BLEU: 0.8104428974074434\n",
      "Sentence: 12000 BLEU: 0.8099555263038047\n",
      "Sentence: 13000 BLEU: 0.8096860129858382\n",
      "Sentence: 14000 BLEU: 0.8094082113401794\n",
      "Sentence: 15000 BLEU: 0.809225389670784\n",
      "Sentence: 16000 BLEU: 0.8098027522360507\n",
      "Sentence: 17000 BLEU: 0.8087779631886087\n",
      "Sentence: 18000 BLEU: 0.8085321515945479\n",
      "Sentence: 19000 BLEU: 0.8084839850603237\n",
      "Sentence: 20000 BLEU: 0.807972266704642\n",
      "Sentence: 21000 BLEU: 0.8077192318850434\n",
      "Sentence: 22000 BLEU: 0.8077447692221367\n",
      "Sentence: 23000 BLEU: 0.807993059190245\n",
      "Sentence: 24000 BLEU: 0.8081712257161627\n",
      "Sentence: 25000 BLEU: 0.8082771556302055\n",
      "Sentence: 26000 BLEU: 0.8083596965558332\n",
      "Sentence: 27000 BLEU: 0.8082313500821848\n",
      "Sentence: 28000 BLEU: 0.8081079666491032\n",
      "Sentence: 29000 BLEU: 0.8080636018687595\n",
      "Corpus BLEU score: 0.8081983323495406\n"
     ]
    }
   ],
   "source": [
    "from nltk.translate.bleu_score import sentence_bleu\n",
    "import warnings\n",
    "warnings.filterwarnings('ignore')\n",
    "\n",
    "BLEU=0\n",
    "for i in range(1, len(train_data)+1):\n",
    "    test = train_data[i-1]\n",
    "    input_ = test[0]\n",
    "    truth = test[1]\n",
    "\n",
    "    output, hidden = encoder(input_, [input_.size(1)])\n",
    "    pred, attn = decoder.decode(hidden, output)\n",
    "\n",
    "    # input_ = [index_to_source[i] for i in input_.data.tolist()[0]]\n",
    "    # pred = [index_to_target[i] for i in pred.data.tolist() if i not in [2, 3]]\n",
    "    # truth = [index_to_target[i] for i in truth.data.tolist()[0] if i not in [2, 3]]\n",
    "\n",
    "    score = sentence_bleu(truth.data.tolist(), pred.data.tolist())\n",
    "    BLEU+=score\n",
    "    if(i%1000==0):\n",
    "        print('Sentence: ' + str(i)+ ' BLEU: ' + str(BLEU/i) )\n",
    "print('Corpus BLEU score: ' + str(BLEU/len(train_data)))\n"
   ]
  },
  {
   "cell_type": "code",
   "execution_count": 0,
   "metadata": {
    "colab": {},
    "colab_type": "code",
    "id": "jEwKY_mJsByW"
   },
   "outputs": [],
   "source": [
    "def show_attention(input_words, output_words, attentions):\n",
    "    # Set up figure with colorbar\n",
    "    fig = plt.figure()\n",
    "    ax = fig.add_subplot(111)\n",
    "    cax = ax.matshow(attentions.numpy(), cmap='bone')\n",
    "    fig.colorbar(cax)\n",
    "\n",
    "    # Set up axes\n",
    "    ax.set_xticklabels([''] + input_words, rotation=90)\n",
    "    ax.set_yticklabels([''] + output_words)\n",
    "\n",
    "    # Show label at every tick\n",
    "    ax.xaxis.set_major_locator(ticker.MultipleLocator(1))\n",
    "    ax.yaxis.set_major_locator(ticker.MultipleLocator(1))\n",
    "\n",
    "#     show_plot_visdom()\n",
    "    plt.show()\n",
    "    plt.close()\n"
   ]
  },
  {
   "cell_type": "code",
   "execution_count": 37,
   "metadata": {
    "colab": {
     "base_uri": "https://localhost:8080/",
     "height": 332
    },
    "colab_type": "code",
    "id": "P1ggzZnvIhQQ",
    "outputId": "ae49bd8a-bb96-4813-a878-f948dd44292c"
   },
   "outputs": [
    {
     "name": "stdout",
     "output_type": "stream",
     "text": [
      "Source :  i m not late , am i ?\n",
      "Truth :  je ne suis pas en retard , n est ce pas ?\n",
      "Prediction :  je ne suis en en pas , est ce pas ?\n"
     ]
    },
    {
     "data": {
      "image/png": "[encoded data removed]",
      "text/plain": [
       "<matplotlib.figure.Figure at 0x7f48a54b7208>"
      ]
     },
     "metadata": {
      "tags": []
     },
     "output_type": "display_data"
    }
   ],
   "source": [
    "test = random.choice(train_data)\n",
    "input_ = test[0]\n",
    "truth = test[1]\n",
    "\n",
    "output, hidden = encoder(input_, [input_.size(1)])\n",
    "pred, attn = decoder.decode(hidden, output)\n",
    "\n",
    "input_ = [index_to_source[i] for i in input_.data.tolist()[0]]\n",
    "pred = [index_to_target[i] for i in pred.data.tolist()]\n",
    "\n",
    "\n",
    "print('Source : ',' '.join([i for i in input_ if i not in ['</s>']]))\n",
    "print('Truth : ',' '.join([index_to_target[i] for i in truth.data.tolist()[0] if i not in [2, 3]]))\n",
    "print('Prediction : ',' '.join([i for i in pred if i not in ['</s>']]))\n",
    "\n",
    "if USE_CUDA:\n",
    "    attn = attn.cpu()\n",
    "\n",
    "show_attention(input_, pred, attn.data)"
   ]
  },
  {
   "cell_type": "code",
   "execution_count": 0,
   "metadata": {
    "colab": {
     "base_uri": "https://localhost:8080/",
     "height": 34
    },
    "colab_type": "code",
    "id": "z50udkycKwvN",
    "outputId": "e4871d04-3ee6-4991-9015-dfe5f92af68b"
   },
   "outputs": [
    {
     "data": {
      "text/plain": [
       "['il', 'n', 'y', 'a', 'aucun', 'message', '.']"
      ]
     },
     "execution_count": 121,
     "metadata": {
      "tags": []
     },
     "output_type": "execute_result"
    }
   ],
   "source": [
    "app"
   ]
  },
  {
   "cell_type": "code",
   "execution_count": 0,
   "metadata": {
    "colab": {},
    "colab_type": "code",
    "id": "yQYyemW1LpQH"
   },
   "outputs": [],
   "source": []
  }
 ],
 "metadata": {
  "accelerator": "GPU",
  "colab": {
   "collapsed_sections": [],
   "name": "NMT.ipynb",
   "provenance": [],
   "version": "0.3.2"
  },
  "kernelspec": {
   "display_name": "Python 3",
   "language": "python",
   "name": "python3"
  },
  "language_info": {
   "codemirror_mode": {
    "name": "ipython",
    "version": 3
   },
   "file_extension": ".py",
   "mimetype": "text/x-python",
   "name": "python",
   "nbconvert_exporter": "python",
   "pygments_lexer": "ipython3",
   "version": "3.6.5"
  }
 },
 "nbformat": 4,
 "nbformat_minor": 1
}
